{
 "cells": [
  {
   "cell_type": "code",
   "execution_count": 10,
   "id": "initial_id",
   "metadata": {
    "collapsed": true,
    "ExecuteTime": {
     "end_time": "2024-01-09T15:54:06.825166500Z",
     "start_time": "2024-01-09T15:54:06.706741100Z"
    }
   },
   "outputs": [
    {
     "name": "stdout",
     "output_type": "stream",
     "text": [
      "B\n"
     ]
    }
   ],
   "source": [
    "def A():\n",
    "    def B():\n",
    "        print(\"B\")\n",
    "    return B()\n",
    "\n",
    "\n",
    "\n",
    "x = A()\n",
    "x"
   ]
  },
  {
   "cell_type": "code",
   "execution_count": 12,
   "outputs": [
    {
     "name": "stdout",
     "output_type": "stream",
     "text": [
      "8\n",
      "2\n"
     ]
    }
   ],
   "source": [
    "def f(x):\n",
    "    return x*2\n",
    "def v(x):\n",
    "    return x//2\n",
    "def o(x, y):\n",
    "    result = y(x)\n",
    "    return result\n",
    "\n",
    "print(o(4, f))\n",
    "print(o(4, v))"
   ],
   "metadata": {
    "collapsed": false,
    "ExecuteTime": {
     "end_time": "2024-01-09T15:55:55.060892700Z",
     "start_time": "2024-01-09T15:55:54.953012100Z"
    }
   },
   "id": "6b02ffd721564720"
  },
  {
   "cell_type": "code",
   "execution_count": 5,
   "outputs": [
    {
     "name": "stdout",
     "output_type": "stream",
     "text": [
      "inner\n",
      "A\n"
     ]
    }
   ],
   "source": [
    "def deco(func):\n",
    "    def inner():\n",
    "        print(\"inner\")\n",
    "        func()\n",
    "    return inner()\n",
    "def A():\n",
    "    print(\"A\")\n",
    "\n",
    "deco(A)"
   ],
   "metadata": {
    "collapsed": false,
    "ExecuteTime": {
     "end_time": "2024-01-09T14:11:41.061158700Z",
     "start_time": "2024-01-09T14:11:40.984023Z"
    }
   },
   "id": "97104dd381e318c0"
  },
  {
   "cell_type": "code",
   "execution_count": 18,
   "outputs": [
    {
     "name": "stdout",
     "output_type": "stream",
     "text": [
      "inner\n",
      "A\n"
     ]
    }
   ],
   "source": [
    "def deco(func):\n",
    "    def inner():\n",
    "        print(\"inner\")\n",
    "        func()\n",
    "    return inner()\n",
    "\n",
    "@deco\n",
    "def A():\n",
    "    print(\"A\")\n",
    "\n",
    "A"
   ],
   "metadata": {
    "collapsed": false,
    "ExecuteTime": {
     "end_time": "2024-01-09T16:00:34.880901800Z",
     "start_time": "2024-01-09T16:00:34.802079Z"
    }
   },
   "id": "1aa6b7469adfd20a"
  },
  {
   "cell_type": "code",
   "execution_count": 25,
   "outputs": [
    {
     "name": "stdout",
     "output_type": "stream",
     "text": [
      "invalid\n"
     ]
    }
   ],
   "source": [
    "s = {\"ali\" : 19, \"reza\" : 15, \"mohammad\" : 20}\n",
    "def deco(func):\n",
    "    def inner(name):\n",
    "        if name == \"mohammad\":\n",
    "          print(\"invalid\")  \n",
    "        else:\n",
    "            func(name)\n",
    "    return inner\n",
    "\n",
    "@deco\n",
    "def A(name):\n",
    "    print(\"score: \", s[name])\n",
    "A(\"mohammad\")"
   ],
   "metadata": {
    "collapsed": false,
    "ExecuteTime": {
     "end_time": "2024-01-09T16:05:08.680233900Z",
     "start_time": "2024-01-09T16:05:08.580741900Z"
    }
   },
   "id": "40d8b78b11b31d78"
  },
  {
   "cell_type": "code",
   "execution_count": 31,
   "outputs": [
    {
     "name": "stdout",
     "output_type": "stream",
     "text": [
      "inner\n",
      "hi ali\n"
     ]
    }
   ],
   "source": [
    "def decoo(func):\n",
    "    def inner(name):\n",
    "        print(\"inner\")\n",
    "        return func(name)\n",
    "    return inner\n",
    "\n",
    "@decoo\n",
    "def b(name):\n",
    "    print(\"hi\", name)\n",
    "\n",
    "b('ali')"
   ],
   "metadata": {
    "collapsed": false,
    "ExecuteTime": {
     "end_time": "2024-01-09T16:07:44.663419500Z",
     "start_time": "2024-01-09T16:07:44.566260Z"
    }
   },
   "id": "fba7daeb6dee3f66"
  },
  {
   "cell_type": "code",
   "execution_count": 34,
   "outputs": [
    {
     "name": "stdout",
     "output_type": "stream",
     "text": [
      "Name of the student:  ali\n",
      "Grade of the student:  15\n",
      "ali got grade 15\n"
     ]
    }
   ],
   "source": [
    "class Student:\n",
    "    def __init__(self,name,grade):    \n",
    "         self.name = name    \n",
    "         self.grade = grade    \n",
    "    @property\n",
    "    def display(self):    \n",
    "         return self.name + \" got grade \" + self.grade    \n",
    "name = input(\"name: \")\n",
    "grade = input(\"grade: \")\n",
    "stu = Student(name,grade)\n",
    "print(\"Name of the student: \", stu.name)    \n",
    "print(\"Grade of the student: \", stu.grade)    \n",
    "print(stu.display)    "
   ],
   "metadata": {
    "collapsed": false,
    "ExecuteTime": {
     "end_time": "2024-01-09T16:12:27.861445200Z",
     "start_time": "2024-01-09T16:12:21.519316400Z"
    }
   },
   "id": "cf6fecb10e6194ff"
  },
  {
   "cell_type": "code",
   "execution_count": 35,
   "outputs": [
    {
     "name": "stdout",
     "output_type": "stream",
     "text": [
      "Hello Peter\n"
     ]
    }
   ],
   "source": [
    "class Person:\n",
    "     @staticmethod    \n",
    "     def hello():  \n",
    "          print(\"Hello Peter\")    \n",
    " \n",
    "Person.hello()    "
   ],
   "metadata": {
    "collapsed": false,
    "ExecuteTime": {
     "end_time": "2024-01-09T16:13:52.721962700Z",
     "start_time": "2024-01-09T16:13:52.591476900Z"
    }
   },
   "id": "45617d3b11da0021"
  },
  {
   "cell_type": "code",
   "execution_count": 22,
   "outputs": [
    {
     "name": "stdout",
     "output_type": "stream",
     "text": [
      "0\n",
      "2\n",
      "4\n",
      "6\n",
      "8\n"
     ]
    }
   ],
   "source": [
    "def simple():  \n",
    "    for i in range(10):  \n",
    "        if(i%2==0):  \n",
    "             yield i  \n",
    "   \n",
    "for i in simple():  \n",
    "    print(i)"
   ],
   "metadata": {
    "collapsed": false,
    "ExecuteTime": {
     "end_time": "2024-01-09T14:41:20.284119900Z",
     "start_time": "2024-01-09T14:41:20.225474Z"
    }
   },
   "id": "376414ccff22a431"
  },
  {
   "cell_type": "code",
   "execution_count": null,
   "outputs": [],
   "source": [],
   "metadata": {
    "collapsed": false
   },
   "id": "2bcd5d08f1acac3b"
  }
 ],
 "metadata": {
  "kernelspec": {
   "display_name": "Python 3",
   "language": "python",
   "name": "python3"
  },
  "language_info": {
   "codemirror_mode": {
    "name": "ipython",
    "version": 2
   },
   "file_extension": ".py",
   "mimetype": "text/x-python",
   "name": "python",
   "nbconvert_exporter": "python",
   "pygments_lexer": "ipython2",
   "version": "2.7.6"
  }
 },
 "nbformat": 4,
 "nbformat_minor": 5
}
