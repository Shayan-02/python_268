{
 "cells": [
  {
   "cell_type": "code",
   "execution_count": 4,
   "id": "40c2b6b4-c1af-4979-9c5a-d52bdb67c4a8",
   "metadata": {},
   "outputs": [
    {
     "name": "stdout",
     "output_type": "stream",
     "text": [
      "3\n",
      "Help on function sumNums in module __main__:\n",
      "\n",
      "sumNums(a, b)\n",
      "    Print the sum of 2 number that given.\n",
      "\n",
      "    param :\n",
      "    a (int) ---> first number\n",
      "    b (int) ---> second number\n",
      "\n",
      "\n",
      "    args:\n",
      "    int , int\n",
      "\n",
      "    returns:\n",
      "    the sum of a and b\n",
      "\n"
     ]
    }
   ],
   "source": [
    "def sumNums(a, b):\n",
    "    \"\"\"\n",
    "    Print the sum of 2 number that given.\n",
    "    \n",
    "    param :\n",
    "    a (int) ---> first number\n",
    "    b (int) ---> second number\n",
    "    \n",
    "    \n",
    "    args: \n",
    "    int , int\n",
    "    \n",
    "    returns: \n",
    "    the sum of a and b\n",
    "    \"\"\"\n",
    "    print(a + b)\n",
    "sumNums(1, 2)\n",
    "help(sumNums)"
   ]
  },
  {
   "cell_type": "code",
   "execution_count": 7,
   "metadata": {},
   "outputs": [
    {
     "ename": "NameError",
     "evalue": "name 'y' is not defined",
     "output_type": "error",
     "traceback": [
      "\u001b[1;31m---------------------------------------------------------------------------\u001b[0m",
      "\u001b[1;31mNameError\u001b[0m                                 Traceback (most recent call last)",
      "\u001b[1;32md:\\Desktop\\all\\code\\python\\python_268\\python_268\\j6\\Untitled.ipynb Cell 2\u001b[0m line \u001b[0;36m7\n\u001b[0;32m      <a href='vscode-notebook-cell:/d%3A/Desktop/all/code/python/python_268/python_268/j6/Untitled.ipynb#W2sZmlsZQ%3D%3D?line=2'>3</a>\u001b[0m     x \u001b[39m=\u001b[39m \u001b[39m5\u001b[39m\n\u001b[0;32m      <a href='vscode-notebook-cell:/d%3A/Desktop/all/code/python/python_268/python_268/j6/Untitled.ipynb#W2sZmlsZQ%3D%3D?line=3'>4</a>\u001b[0m     y \u001b[39m=\u001b[39m \u001b[39m6\u001b[39m\n\u001b[1;32m----> <a href='vscode-notebook-cell:/d%3A/Desktop/all/code/python/python_268/python_268/j6/Untitled.ipynb#W2sZmlsZQ%3D%3D?line=6'>7</a>\u001b[0m \u001b[39mprint\u001b[39m(y)\n",
      "\u001b[1;31mNameError\u001b[0m: name 'y' is not defined"
     ]
    }
   ],
   "source": [
    "def f2():\n",
    "    global y\n",
    "    x = 5\n",
    "    y = 6\n",
    "\n",
    "\n",
    "print(y)\n"
   ]
  },
  {
   "cell_type": "code",
   "execution_count": null,
   "metadata": {},
   "outputs": [],
   "source": []
  },
  {
   "cell_type": "code",
   "execution_count": 5,
   "id": "7f296659-eb6d-4d3e-88a0-d4d44ca14880",
   "metadata": {},
   "outputs": [
    {
     "data": {
      "text/plain": [
       "5"
      ]
     },
     "execution_count": 5,
     "metadata": {},
     "output_type": "execute_result"
    }
   ],
   "source": [
    "max(3, 5)"
   ]
  }
 ],
 "metadata": {
  "kernelspec": {
   "display_name": "Python 3 (ipykernel)",
   "language": "python",
   "name": "python3"
  },
  "language_info": {
   "codemirror_mode": {
    "name": "ipython",
    "version": 3
   },
   "file_extension": ".py",
   "mimetype": "text/x-python",
   "name": "python",
   "nbconvert_exporter": "python",
   "pygments_lexer": "ipython3",
   "version": "3.12.0"
  }
 },
 "nbformat": 4,
 "nbformat_minor": 5
}
